{
 "cells": [
  {
   "cell_type": "code",
   "execution_count": null,
   "id": "c8bc4edc",
   "metadata": {},
   "outputs": [],
   "source": [
    "print(\"Hello World\")"
   ]
  }
 ],
 "metadata": {
  "language_info": {
   "name": "python"
  }
 },
 "nbformat": 4,
 "nbformat_minor": 5
}
